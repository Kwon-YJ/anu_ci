{
 "cells": [
  {
   "attachments": {},
   "cell_type": "markdown",
   "id": "efbe0976",
   "metadata": {},
   "source": [
    "## Floyd & Steinberg Error diffusion 파이썬 구현"
   ]
  },
  {
   "attachments": {},
   "cell_type": "markdown",
   "id": "e63efde8",
   "metadata": {},
   "source": [
    "### 패키지 임포트"
   ]
  },
  {
   "cell_type": "code",
   "execution_count": 1,
   "id": "0858a97a",
   "metadata": {},
   "outputs": [],
   "source": [
    "import cv2\n",
    "import numpy as np"
   ]
  },
  {
   "attachments": {},
   "cell_type": "markdown",
   "id": "bc4bb1ce",
   "metadata": {},
   "source": [
    "### 이미지 로드"
   ]
  },
  {
   "cell_type": "code",
   "execution_count": 2,
   "id": "08598b84",
   "metadata": {},
   "outputs": [],
   "source": [
    "# target_img = \"./Leonardo_da_Vinci_(1452-1519)_-_The_Last_Supper_(1495-1498).jpg\"\n",
    "target_img = \"./img_file/black1430.jpg\"\n",
    "img = cv2.imread(target_img)\n",
    "\n",
    "cv2.imshow(\"original\", img)\n",
    "cv2.waitKey(0)\n",
    "cv2.destroyAllWindows()\n"
   ]
  },
  {
   "cell_type": "markdown",
   "id": "c6880cfd",
   "metadata": {},
   "source": [
    "### 그레이 스케일 변환"
   ]
  },
  {
   "cell_type": "code",
   "execution_count": 3,
   "id": "f78b02c7",
   "metadata": {},
   "outputs": [],
   "source": [
    "img = cv2.cvtColor(img, cv2.COLOR_BGR2GRAY)\n",
    "\n",
    "cv2.imshow(\"gray\", img)\n",
    "cv2.waitKey(0)\n",
    "cv2.destroyAllWindows()"
   ]
  },
  {
   "attachments": {},
   "cell_type": "markdown",
   "id": "c447831c",
   "metadata": {},
   "source": [
    "### 각 픽셀에 대해 오차의 확산(Error diffusion) 적용"
   ]
  },
  {
   "cell_type": "code",
   "execution_count": 4,
   "id": "2db20d87",
   "metadata": {},
   "outputs": [
    {
     "data": {
      "text/plain": [
       "True"
      ]
     },
     "execution_count": 4,
     "metadata": {},
     "output_type": "execute_result"
    }
   ],
   "source": [
    "height, width = img.shape\n",
    "\n",
    "for i in range(1, height-1):\n",
    "    for j in range(1, width-1):\n",
    "        error = img[i][j] - 127 if img[i][j] > 127 else 0\n",
    "        img[i][j] = img[i][j] - error\n",
    "        img[i][j+1] = img[i][j+1] + (error*7)/16        # 7/16\n",
    "        img[i-1][j+1] = img[i-1][j+1] + (error*3)/16    # 3/16\n",
    "        img[i+1][j] = img[i+1][j] + (error*5)/16        # 5/16\n",
    "        img[i+1][j+1] = img[i+1][j+1] + (error)/16      # 1/16\n",
    "\n",
    "for i in range(1, height-1):\n",
    "    for j in range(1, width-1):\n",
    "        img[i][j] = 0 if img[i][j] < 127 else 255\n",
    "\n",
    "cv2.imshow(\"error-diffusion\", img)\n",
    "cv2.waitKey(0)\n",
    "cv2.destroyAllWindows()\n",
    "\n",
    "cv2.imwrite(\"diffusion_default.png\", img)"
   ]
  },
  {
   "attachments": {},
   "cell_type": "markdown",
   "id": "49ab36a7",
   "metadata": {},
   "source": [
    "### 다시 이미지를 읽은 후, 한 픽셀을 4분할 하기 위해 확대"
   ]
  },
  {
   "cell_type": "code",
   "execution_count": 5,
   "id": "145e2ac9",
   "metadata": {},
   "outputs": [
    {
     "data": {
      "text/plain": [
       "True"
      ]
     },
     "execution_count": 5,
     "metadata": {},
     "output_type": "execute_result"
    }
   ],
   "source": [
    "target_img = \"./img_file/black1430.jpg\"\n",
    "img = cv2.imread(target_img)\n",
    "img = cv2.cvtColor(img, cv2.COLOR_BGR2GRAY)\n",
    "height, width = img.shape\n",
    "zoom_img = np.zeros((int(height*2), int(width*2)))\n",
    "for i in range(height):\n",
    "    for j in range(width):\n",
    "        pixel = img[i][j]\n",
    "        zoom_img[i*2][j*2] = pixel      # (0, 0)\n",
    "        zoom_img[i*2][j*2+1] = pixel    # (0, 1)\n",
    "        zoom_img[i*2+1][j*2] = pixel    # (1, 0)\n",
    "        zoom_img[i*2+1][j*2+1] = pixel  # (1, 1)\n",
    "\n",
    "cv2.imshow(\"zoom\", zoom_img/255)\n",
    "cv2.waitKey(0)\n",
    "cv2.destroyAllWindows()\n",
    "\n",
    "cv2.imwrite(\"just_zoom.png\", zoom_img)\n"
   ]
  },
  {
   "attachments": {},
   "cell_type": "markdown",
   "id": "30d9f79f",
   "metadata": {},
   "source": [
    "### 확대된 이미지를 대상으로, 다시 각 픽셀에 대해 오차의 확산(Error diffusion) 적용"
   ]
  },
  {
   "cell_type": "code",
   "execution_count": 6,
   "id": "b689023d",
   "metadata": {},
   "outputs": [
    {
     "name": "stdout",
     "output_type": "stream",
     "text": [
      "1028 1250\n"
     ]
    },
    {
     "data": {
      "text/plain": [
       "True"
      ]
     },
     "execution_count": 6,
     "metadata": {},
     "output_type": "execute_result"
    }
   ],
   "source": [
    "img = cv2.imread(\"./just_zoom.png\")\n",
    "zoom_img = cv2.cvtColor(img, cv2.COLOR_BGR2GRAY)\n",
    "\n",
    "height, width = zoom_img.shape\n",
    "print(height, width)\n",
    "for i in range(1, height-1):\n",
    "    for j in range(1, width-1):\n",
    "        error = zoom_img[i][j] - 127 if zoom_img[i][j] > 127 else 0\n",
    "        zoom_img[i][j] = zoom_img[i][j] - error\n",
    "        zoom_img[i][j+1] = zoom_img[i][j+1] + (error*7)/16        # 7/16\n",
    "        zoom_img[i-1][j+1] = zoom_img[i-1][j+1] + (error*3)/16    # 3/16\n",
    "        zoom_img[i+1][j] = zoom_img[i+1][j] + (error*5)/16        # 5/16\n",
    "        zoom_img[i+1][j+1] = zoom_img[i+1][j+1] + (error)/16      # 1/16\n",
    "\n",
    "for i in range(1, height-1):\n",
    "    for j in range(1, width-1):\n",
    "        zoom_img[i][j] = 0 if zoom_img[i][j] < 127 else 255\n",
    "\n",
    "cv2.imshow(\"error-diffusion-zoom\", zoom_img/255)\n",
    "cv2.waitKey(0)\n",
    "cv2.destroyAllWindows()\n",
    "\n",
    "cv2.imwrite(\"diffusion_zoom.png\", zoom_img)"
   ]
  }
 ],
 "metadata": {
  "kernelspec": {
   "display_name": "Python 3 (ipykernel)",
   "language": "python",
   "name": "python3"
  },
  "language_info": {
   "codemirror_mode": {
    "name": "ipython",
    "version": 3
   },
   "file_extension": ".py",
   "mimetype": "text/x-python",
   "name": "python",
   "nbconvert_exporter": "python",
   "pygments_lexer": "ipython3",
   "version": "3.10.6"
  }
 },
 "nbformat": 4,
 "nbformat_minor": 5
}
