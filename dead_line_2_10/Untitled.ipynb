{
 "cells": [
  {
   "cell_type": "code",
   "execution_count": 1,
   "id": "0858a97a",
   "metadata": {},
   "outputs": [],
   "source": [
    "import torch\n",
    "from torch import nn\n",
    "import torch.nn.utils.prune as prune\n",
    "import torch.nn.functional as F"
   ]
  },
  {
   "cell_type": "code",
   "execution_count": 2,
   "id": "08598b84",
   "metadata": {},
   "outputs": [],
   "source": [
    "device = torch.device(\"cuda\")\n",
    "\n",
    "class LeNet(nn.Module):\n",
    "    def __init__(self):\n",
    "        super(LeNet, self).__init__()\n",
    "        self.conv1 = nn.Conv2d(1, 6, 3)\n",
    "        self.conv2 = nn.Conv2d(6, 16, 3)\n",
    "        self.fc1 = nn.Linear(16 * 5 *5, 120)\n",
    "        self.fc2 = nn.Linear(120, 84)\n",
    "        self.fc3 = nn.Linear(84, 18)\n",
    "        \n",
    "    def forward(self, x):\n",
    "        x = F.max_pool2d(F.relu(slef.conv1(x)), (2,2))\n",
    "        x = F.max_pool2d(F.relu(slef.conv2(x)), 2)\n",
    "        x = x.veiw(-1, int(x.nelemnt() / x.shape[0]))\n",
    "        x = F.relu(self.fc1(x))\n",
    "        x = F.relu(self.fc2(x))\n",
    "        x = self.fc3(x)\n",
    "        return x\n",
    "    \n",
    "model = LeNet().to(device=device)\n",
    "\n",
    "        "
   ]
  },
  {
   "cell_type": "code",
   "execution_count": 3,
   "id": "6e795abb",
   "metadata": {},
   "outputs": [
    {
     "name": "stdout",
     "output_type": "stream",
     "text": [
      "[('weight', Parameter containing:\n",
      "tensor([[[[ 0.2146,  0.1737, -0.1622],\n",
      "          [ 0.3243, -0.0103,  0.1497],\n",
      "          [ 0.0881, -0.1917,  0.0793]]],\n",
      "\n",
      "\n",
      "        [[[-0.1478, -0.0772,  0.2876],\n",
      "          [ 0.1745, -0.1883,  0.1715],\n",
      "          [ 0.2701, -0.3268, -0.3125]]],\n",
      "\n",
      "\n",
      "        [[[-0.0715, -0.2817,  0.1551],\n",
      "          [ 0.1208, -0.2097,  0.2736],\n",
      "          [ 0.2998,  0.0112,  0.0589]]],\n",
      "\n",
      "\n",
      "        [[[-0.0391, -0.1435, -0.2352],\n",
      "          [ 0.1076, -0.1779,  0.1004],\n",
      "          [ 0.2375,  0.0865,  0.2162]]],\n",
      "\n",
      "\n",
      "        [[[ 0.1853, -0.1390,  0.0031],\n",
      "          [ 0.2033, -0.0821, -0.0886],\n",
      "          [-0.3312, -0.0722,  0.2321]]],\n",
      "\n",
      "\n",
      "        [[[ 0.1771,  0.1817,  0.0980],\n",
      "          [ 0.0405,  0.0282,  0.1173],\n",
      "          [-0.0824, -0.2734,  0.2926]]]], device='cuda:0', requires_grad=True)), ('bias', Parameter containing:\n",
      "tensor([-0.1414,  0.2652,  0.0051, -0.0339,  0.2477,  0.0462], device='cuda:0',\n",
      "       requires_grad=True))]\n"
     ]
    }
   ],
   "source": [
    "module = model.conv1\n",
    "print(list(module.named_parameters()))"
   ]
  },
  {
   "cell_type": "code",
   "execution_count": 4,
   "id": "5b3c579c",
   "metadata": {},
   "outputs": [
    {
     "name": "stdout",
     "output_type": "stream",
     "text": [
      "[]\n"
     ]
    }
   ],
   "source": [
    "print(list(module.named_buffers()))"
   ]
  },
  {
   "cell_type": "code",
   "execution_count": 5,
   "id": "89b070c9",
   "metadata": {
    "scrolled": true
   },
   "outputs": [
    {
     "data": {
      "text/plain": [
       "Conv2d(1, 6, kernel_size=(3, 3), stride=(1, 1))"
      ]
     },
     "execution_count": 5,
     "metadata": {},
     "output_type": "execute_result"
    }
   ],
   "source": [
    "prune.random_unstructured(module, name=\"weight\", amount=0.3)"
   ]
  },
  {
   "cell_type": "code",
   "execution_count": 6,
   "id": "e87a22cc",
   "metadata": {},
   "outputs": [
    {
     "name": "stdout",
     "output_type": "stream",
     "text": [
      "[('bias', Parameter containing:\n",
      "tensor([-0.1414,  0.2652,  0.0051, -0.0339,  0.2477,  0.0462], device='cuda:0',\n",
      "       requires_grad=True)), ('weight_orig', Parameter containing:\n",
      "tensor([[[[ 0.2146,  0.1737, -0.1622],\n",
      "          [ 0.3243, -0.0103,  0.1497],\n",
      "          [ 0.0881, -0.1917,  0.0793]]],\n",
      "\n",
      "\n",
      "        [[[-0.1478, -0.0772,  0.2876],\n",
      "          [ 0.1745, -0.1883,  0.1715],\n",
      "          [ 0.2701, -0.3268, -0.3125]]],\n",
      "\n",
      "\n",
      "        [[[-0.0715, -0.2817,  0.1551],\n",
      "          [ 0.1208, -0.2097,  0.2736],\n",
      "          [ 0.2998,  0.0112,  0.0589]]],\n",
      "\n",
      "\n",
      "        [[[-0.0391, -0.1435, -0.2352],\n",
      "          [ 0.1076, -0.1779,  0.1004],\n",
      "          [ 0.2375,  0.0865,  0.2162]]],\n",
      "\n",
      "\n",
      "        [[[ 0.1853, -0.1390,  0.0031],\n",
      "          [ 0.2033, -0.0821, -0.0886],\n",
      "          [-0.3312, -0.0722,  0.2321]]],\n",
      "\n",
      "\n",
      "        [[[ 0.1771,  0.1817,  0.0980],\n",
      "          [ 0.0405,  0.0282,  0.1173],\n",
      "          [-0.0824, -0.2734,  0.2926]]]], device='cuda:0', requires_grad=True))]\n"
     ]
    }
   ],
   "source": [
    "print(list(module.named_parameters()))"
   ]
  },
  {
   "cell_type": "code",
   "execution_count": 7,
   "id": "1757dcd1",
   "metadata": {},
   "outputs": [
    {
     "name": "stdout",
     "output_type": "stream",
     "text": [
      "[('weight_mask', tensor([[[[1., 1., 1.],\n",
      "          [1., 1., 0.],\n",
      "          [1., 1., 0.]]],\n",
      "\n",
      "\n",
      "        [[[1., 1., 1.],\n",
      "          [0., 1., 1.],\n",
      "          [1., 1., 0.]]],\n",
      "\n",
      "\n",
      "        [[[1., 1., 1.],\n",
      "          [1., 1., 0.],\n",
      "          [0., 0., 0.]]],\n",
      "\n",
      "\n",
      "        [[[1., 1., 1.],\n",
      "          [1., 0., 0.],\n",
      "          [1., 0., 1.]]],\n",
      "\n",
      "\n",
      "        [[[1., 1., 1.],\n",
      "          [0., 1., 0.],\n",
      "          [1., 1., 1.]]],\n",
      "\n",
      "\n",
      "        [[[0., 1., 1.],\n",
      "          [1., 1., 0.],\n",
      "          [0., 1., 1.]]]], device='cuda:0'))]\n"
     ]
    }
   ],
   "source": [
    "print(list(module.named_buffers()))"
   ]
  },
  {
   "cell_type": "code",
   "execution_count": 8,
   "id": "12acef62",
   "metadata": {},
   "outputs": [
    {
     "name": "stdout",
     "output_type": "stream",
     "text": [
      "tensor([[[[ 0.2146,  0.1737, -0.1622],\n",
      "          [ 0.3243, -0.0103,  0.0000],\n",
      "          [ 0.0881, -0.1917,  0.0000]]],\n",
      "\n",
      "\n",
      "        [[[-0.1478, -0.0772,  0.2876],\n",
      "          [ 0.0000, -0.1883,  0.1715],\n",
      "          [ 0.2701, -0.3268, -0.0000]]],\n",
      "\n",
      "\n",
      "        [[[-0.0715, -0.2817,  0.1551],\n",
      "          [ 0.1208, -0.2097,  0.0000],\n",
      "          [ 0.0000,  0.0000,  0.0000]]],\n",
      "\n",
      "\n",
      "        [[[-0.0391, -0.1435, -0.2352],\n",
      "          [ 0.1076, -0.0000,  0.0000],\n",
      "          [ 0.2375,  0.0000,  0.2162]]],\n",
      "\n",
      "\n",
      "        [[[ 0.1853, -0.1390,  0.0031],\n",
      "          [ 0.0000, -0.0821, -0.0000],\n",
      "          [-0.3312, -0.0722,  0.2321]]],\n",
      "\n",
      "\n",
      "        [[[ 0.0000,  0.1817,  0.0980],\n",
      "          [ 0.0405,  0.0282,  0.0000],\n",
      "          [-0.0000, -0.2734,  0.2926]]]], device='cuda:0',\n",
      "       grad_fn=<MulBackward0>)\n"
     ]
    }
   ],
   "source": [
    "print(module.weight)"
   ]
  },
  {
   "cell_type": "code",
   "execution_count": 9,
   "id": "423de3ea",
   "metadata": {},
   "outputs": [
    {
     "name": "stdout",
     "output_type": "stream",
     "text": [
      "OrderedDict([(0, <torch.nn.utils.prune.RandomUnstructured object at 0x7f1f78c2bca0>)])\n"
     ]
    }
   ],
   "source": [
    "print(module._forward_pre_hooks)"
   ]
  },
  {
   "cell_type": "code",
   "execution_count": 10,
   "id": "b9a7b2f7",
   "metadata": {},
   "outputs": [
    {
     "data": {
      "text/plain": [
       "Conv2d(1, 6, kernel_size=(3, 3), stride=(1, 1))"
      ]
     },
     "execution_count": 10,
     "metadata": {},
     "output_type": "execute_result"
    }
   ],
   "source": [
    "prune.l1_unstructured(module, name=\"bias\", amount=3)"
   ]
  },
  {
   "cell_type": "code",
   "execution_count": 11,
   "id": "72d82821",
   "metadata": {},
   "outputs": [
    {
     "name": "stdout",
     "output_type": "stream",
     "text": [
      "[('weight_orig', Parameter containing:\n",
      "tensor([[[[ 0.2146,  0.1737, -0.1622],\n",
      "          [ 0.3243, -0.0103,  0.1497],\n",
      "          [ 0.0881, -0.1917,  0.0793]]],\n",
      "\n",
      "\n",
      "        [[[-0.1478, -0.0772,  0.2876],\n",
      "          [ 0.1745, -0.1883,  0.1715],\n",
      "          [ 0.2701, -0.3268, -0.3125]]],\n",
      "\n",
      "\n",
      "        [[[-0.0715, -0.2817,  0.1551],\n",
      "          [ 0.1208, -0.2097,  0.2736],\n",
      "          [ 0.2998,  0.0112,  0.0589]]],\n",
      "\n",
      "\n",
      "        [[[-0.0391, -0.1435, -0.2352],\n",
      "          [ 0.1076, -0.1779,  0.1004],\n",
      "          [ 0.2375,  0.0865,  0.2162]]],\n",
      "\n",
      "\n",
      "        [[[ 0.1853, -0.1390,  0.0031],\n",
      "          [ 0.2033, -0.0821, -0.0886],\n",
      "          [-0.3312, -0.0722,  0.2321]]],\n",
      "\n",
      "\n",
      "        [[[ 0.1771,  0.1817,  0.0980],\n",
      "          [ 0.0405,  0.0282,  0.1173],\n",
      "          [-0.0824, -0.2734,  0.2926]]]], device='cuda:0', requires_grad=True)), ('bias_orig', Parameter containing:\n",
      "tensor([-0.1414,  0.2652,  0.0051, -0.0339,  0.2477,  0.0462], device='cuda:0',\n",
      "       requires_grad=True))]\n"
     ]
    }
   ],
   "source": [
    "print(list(module.named_parameters()))"
   ]
  },
  {
   "cell_type": "code",
   "execution_count": 12,
   "id": "ba32704a",
   "metadata": {},
   "outputs": [
    {
     "name": "stdout",
     "output_type": "stream",
     "text": [
      "[('weight_mask', tensor([[[[1., 1., 1.],\n",
      "          [1., 1., 0.],\n",
      "          [1., 1., 0.]]],\n",
      "\n",
      "\n",
      "        [[[1., 1., 1.],\n",
      "          [0., 1., 1.],\n",
      "          [1., 1., 0.]]],\n",
      "\n",
      "\n",
      "        [[[1., 1., 1.],\n",
      "          [1., 1., 0.],\n",
      "          [0., 0., 0.]]],\n",
      "\n",
      "\n",
      "        [[[1., 1., 1.],\n",
      "          [1., 0., 0.],\n",
      "          [1., 0., 1.]]],\n",
      "\n",
      "\n",
      "        [[[1., 1., 1.],\n",
      "          [0., 1., 0.],\n",
      "          [1., 1., 1.]]],\n",
      "\n",
      "\n",
      "        [[[0., 1., 1.],\n",
      "          [1., 1., 0.],\n",
      "          [0., 1., 1.]]]], device='cuda:0')), ('bias_mask', tensor([1., 1., 0., 0., 1., 0.], device='cuda:0'))]\n"
     ]
    }
   ],
   "source": [
    "print(list(module.named_buffers()))"
   ]
  },
  {
   "cell_type": "code",
   "execution_count": 13,
   "id": "a83111c3",
   "metadata": {},
   "outputs": [
    {
     "name": "stdout",
     "output_type": "stream",
     "text": [
      "tensor([-0.1414,  0.2652,  0.0000, -0.0000,  0.2477,  0.0000], device='cuda:0',\n",
      "       grad_fn=<MulBackward0>)\n"
     ]
    }
   ],
   "source": [
    "print(module.bias)"
   ]
  },
  {
   "cell_type": "code",
   "execution_count": 14,
   "id": "11cdf2c5",
   "metadata": {},
   "outputs": [
    {
     "name": "stdout",
     "output_type": "stream",
     "text": [
      "OrderedDict([(0, <torch.nn.utils.prune.RandomUnstructured object at 0x7f1f78c2bca0>), (1, <torch.nn.utils.prune.L1Unstructured object at 0x7f1f78c2b0d0>)])\n"
     ]
    }
   ],
   "source": [
    "print(module._forward_pre_hooks)"
   ]
  },
  {
   "cell_type": "code",
   "execution_count": 15,
   "id": "35738b38",
   "metadata": {},
   "outputs": [
    {
     "data": {
      "text/plain": [
       "Conv2d(1, 6, kernel_size=(3, 3), stride=(1, 1))"
      ]
     },
     "execution_count": 15,
     "metadata": {},
     "output_type": "execute_result"
    }
   ],
   "source": [
    "prune.ln_structured(module, name=\"weight\", amount=0.5, n=2, dim=0)"
   ]
  },
  {
   "cell_type": "code",
   "execution_count": 16,
   "id": "0b7a01f8",
   "metadata": {},
   "outputs": [
    {
     "name": "stdout",
     "output_type": "stream",
     "text": [
      "tensor([[[[ 0.2146,  0.1737, -0.1622],\n",
      "          [ 0.3243, -0.0103,  0.0000],\n",
      "          [ 0.0881, -0.1917,  0.0000]]],\n",
      "\n",
      "\n",
      "        [[[-0.1478, -0.0772,  0.2876],\n",
      "          [ 0.0000, -0.1883,  0.1715],\n",
      "          [ 0.2701, -0.3268, -0.0000]]],\n",
      "\n",
      "\n",
      "        [[[-0.0000, -0.0000,  0.0000],\n",
      "          [ 0.0000, -0.0000,  0.0000],\n",
      "          [ 0.0000,  0.0000,  0.0000]]],\n",
      "\n",
      "\n",
      "        [[[-0.0000, -0.0000, -0.0000],\n",
      "          [ 0.0000, -0.0000,  0.0000],\n",
      "          [ 0.0000,  0.0000,  0.0000]]],\n",
      "\n",
      "\n",
      "        [[[ 0.1853, -0.1390,  0.0031],\n",
      "          [ 0.0000, -0.0821, -0.0000],\n",
      "          [-0.3312, -0.0722,  0.2321]]],\n",
      "\n",
      "\n",
      "        [[[ 0.0000,  0.0000,  0.0000],\n",
      "          [ 0.0000,  0.0000,  0.0000],\n",
      "          [-0.0000, -0.0000,  0.0000]]]], device='cuda:0',\n",
      "       grad_fn=<MulBackward0>)\n"
     ]
    }
   ],
   "source": [
    "print(module.weight)"
   ]
  },
  {
   "cell_type": "code",
   "execution_count": 17,
   "id": "4f399a17",
   "metadata": {},
   "outputs": [
    {
     "name": "stdout",
     "output_type": "stream",
     "text": [
      "[<torch.nn.utils.prune.RandomUnstructured object at 0x7f1f78c2bca0>, <torch.nn.utils.prune.LnStructured object at 0x7f1f78c2b220>]\n"
     ]
    }
   ],
   "source": [
    "for hook in module._forward_pre_hooks.values():\n",
    "    if hook._tensor_name == \"weight\":  # 가중치에 해당하는 훅을 선택\n",
    "        break\n",
    "\n",
    "print(list(hook))  # 컨테이너 내 가지치기 기법의 이력"
   ]
  },
  {
   "cell_type": "code",
   "execution_count": 18,
   "id": "5a0f8a2e",
   "metadata": {},
   "outputs": [
    {
     "name": "stdout",
     "output_type": "stream",
     "text": [
      "odict_keys(['conv1.weight_orig', 'conv1.bias_orig', 'conv1.weight_mask', 'conv1.bias_mask', 'conv2.weight', 'conv2.bias', 'fc1.weight', 'fc1.bias', 'fc2.weight', 'fc2.bias', 'fc3.weight', 'fc3.bias'])\n"
     ]
    }
   ],
   "source": [
    "print(model.state_dict().keys())"
   ]
  },
  {
   "cell_type": "code",
   "execution_count": 19,
   "id": "71011108",
   "metadata": {},
   "outputs": [
    {
     "name": "stdout",
     "output_type": "stream",
     "text": [
      "[('weight_orig', Parameter containing:\n",
      "tensor([[[[ 0.2146,  0.1737, -0.1622],\n",
      "          [ 0.3243, -0.0103,  0.1497],\n",
      "          [ 0.0881, -0.1917,  0.0793]]],\n",
      "\n",
      "\n",
      "        [[[-0.1478, -0.0772,  0.2876],\n",
      "          [ 0.1745, -0.1883,  0.1715],\n",
      "          [ 0.2701, -0.3268, -0.3125]]],\n",
      "\n",
      "\n",
      "        [[[-0.0715, -0.2817,  0.1551],\n",
      "          [ 0.1208, -0.2097,  0.2736],\n",
      "          [ 0.2998,  0.0112,  0.0589]]],\n",
      "\n",
      "\n",
      "        [[[-0.0391, -0.1435, -0.2352],\n",
      "          [ 0.1076, -0.1779,  0.1004],\n",
      "          [ 0.2375,  0.0865,  0.2162]]],\n",
      "\n",
      "\n",
      "        [[[ 0.1853, -0.1390,  0.0031],\n",
      "          [ 0.2033, -0.0821, -0.0886],\n",
      "          [-0.3312, -0.0722,  0.2321]]],\n",
      "\n",
      "\n",
      "        [[[ 0.1771,  0.1817,  0.0980],\n",
      "          [ 0.0405,  0.0282,  0.1173],\n",
      "          [-0.0824, -0.2734,  0.2926]]]], device='cuda:0', requires_grad=True)), ('bias_orig', Parameter containing:\n",
      "tensor([-0.1414,  0.2652,  0.0051, -0.0339,  0.2477,  0.0462], device='cuda:0',\n",
      "       requires_grad=True))]\n"
     ]
    }
   ],
   "source": [
    "print(list(module.named_parameters()))"
   ]
  },
  {
   "cell_type": "code",
   "execution_count": 20,
   "id": "d97c6c04",
   "metadata": {},
   "outputs": [
    {
     "name": "stdout",
     "output_type": "stream",
     "text": [
      "[('weight_mask', tensor([[[[1., 1., 1.],\n",
      "          [1., 1., 0.],\n",
      "          [1., 1., 0.]]],\n",
      "\n",
      "\n",
      "        [[[1., 1., 1.],\n",
      "          [0., 1., 1.],\n",
      "          [1., 1., 0.]]],\n",
      "\n",
      "\n",
      "        [[[0., 0., 0.],\n",
      "          [0., 0., 0.],\n",
      "          [0., 0., 0.]]],\n",
      "\n",
      "\n",
      "        [[[0., 0., 0.],\n",
      "          [0., 0., 0.],\n",
      "          [0., 0., 0.]]],\n",
      "\n",
      "\n",
      "        [[[1., 1., 1.],\n",
      "          [0., 1., 0.],\n",
      "          [1., 1., 1.]]],\n",
      "\n",
      "\n",
      "        [[[0., 0., 0.],\n",
      "          [0., 0., 0.],\n",
      "          [0., 0., 0.]]]], device='cuda:0')), ('bias_mask', tensor([1., 1., 0., 0., 1., 0.], device='cuda:0'))]\n"
     ]
    }
   ],
   "source": [
    "print(list(module.named_buffers()))"
   ]
  },
  {
   "cell_type": "code",
   "execution_count": 21,
   "id": "43de4338",
   "metadata": {},
   "outputs": [
    {
     "name": "stdout",
     "output_type": "stream",
     "text": [
      "tensor([[[[ 0.2146,  0.1737, -0.1622],\n",
      "          [ 0.3243, -0.0103,  0.0000],\n",
      "          [ 0.0881, -0.1917,  0.0000]]],\n",
      "\n",
      "\n",
      "        [[[-0.1478, -0.0772,  0.2876],\n",
      "          [ 0.0000, -0.1883,  0.1715],\n",
      "          [ 0.2701, -0.3268, -0.0000]]],\n",
      "\n",
      "\n",
      "        [[[-0.0000, -0.0000,  0.0000],\n",
      "          [ 0.0000, -0.0000,  0.0000],\n",
      "          [ 0.0000,  0.0000,  0.0000]]],\n",
      "\n",
      "\n",
      "        [[[-0.0000, -0.0000, -0.0000],\n",
      "          [ 0.0000, -0.0000,  0.0000],\n",
      "          [ 0.0000,  0.0000,  0.0000]]],\n",
      "\n",
      "\n",
      "        [[[ 0.1853, -0.1390,  0.0031],\n",
      "          [ 0.0000, -0.0821, -0.0000],\n",
      "          [-0.3312, -0.0722,  0.2321]]],\n",
      "\n",
      "\n",
      "        [[[ 0.0000,  0.0000,  0.0000],\n",
      "          [ 0.0000,  0.0000,  0.0000],\n",
      "          [-0.0000, -0.0000,  0.0000]]]], device='cuda:0',\n",
      "       grad_fn=<MulBackward0>)\n"
     ]
    }
   ],
   "source": [
    "print(module.weight)"
   ]
  },
  {
   "cell_type": "code",
   "execution_count": 22,
   "id": "ddb205c1",
   "metadata": {},
   "outputs": [
    {
     "name": "stdout",
     "output_type": "stream",
     "text": [
      "[('bias_orig', Parameter containing:\n",
      "tensor([-0.1414,  0.2652,  0.0051, -0.0339,  0.2477,  0.0462], device='cuda:0',\n",
      "       requires_grad=True)), ('weight', Parameter containing:\n",
      "tensor([[[[ 0.2146,  0.1737, -0.1622],\n",
      "          [ 0.3243, -0.0103,  0.0000],\n",
      "          [ 0.0881, -0.1917,  0.0000]]],\n",
      "\n",
      "\n",
      "        [[[-0.1478, -0.0772,  0.2876],\n",
      "          [ 0.0000, -0.1883,  0.1715],\n",
      "          [ 0.2701, -0.3268, -0.0000]]],\n",
      "\n",
      "\n",
      "        [[[-0.0000, -0.0000,  0.0000],\n",
      "          [ 0.0000, -0.0000,  0.0000],\n",
      "          [ 0.0000,  0.0000,  0.0000]]],\n",
      "\n",
      "\n",
      "        [[[-0.0000, -0.0000, -0.0000],\n",
      "          [ 0.0000, -0.0000,  0.0000],\n",
      "          [ 0.0000,  0.0000,  0.0000]]],\n",
      "\n",
      "\n",
      "        [[[ 0.1853, -0.1390,  0.0031],\n",
      "          [ 0.0000, -0.0821, -0.0000],\n",
      "          [-0.3312, -0.0722,  0.2321]]],\n",
      "\n",
      "\n",
      "        [[[ 0.0000,  0.0000,  0.0000],\n",
      "          [ 0.0000,  0.0000,  0.0000],\n",
      "          [-0.0000, -0.0000,  0.0000]]]], device='cuda:0', requires_grad=True))]\n"
     ]
    }
   ],
   "source": [
    "prune.remove(module, 'weight')\n",
    "print(list(module.named_parameters()))"
   ]
  },
  {
   "cell_type": "code",
   "execution_count": 23,
   "id": "b8dcc02e",
   "metadata": {},
   "outputs": [
    {
     "name": "stdout",
     "output_type": "stream",
     "text": [
      "[('bias_mask', tensor([1., 1., 0., 0., 1., 0.], device='cuda:0'))]\n"
     ]
    }
   ],
   "source": [
    "print(list(module.named_buffers()))"
   ]
  },
  {
   "cell_type": "code",
   "execution_count": 24,
   "id": "8d5da3ea",
   "metadata": {},
   "outputs": [
    {
     "name": "stdout",
     "output_type": "stream",
     "text": [
      "dict_keys(['conv1.weight_mask', 'conv2.weight_mask', 'fc1.weight_mask', 'fc2.weight_mask', 'fc3.weight_mask'])\n"
     ]
    }
   ],
   "source": [
    "new_model = LeNet()\n",
    "for name, module in new_model.named_modules():\n",
    "    # 모든 2D-conv 층의 20% 연결에 대해 가지치기 기법을 적용\n",
    "    if isinstance(module, torch.nn.Conv2d):\n",
    "        prune.l1_unstructured(module, name='weight', amount=0.2)\n",
    "    # 모든 선형 층의 40% 연결에 대해 가지치기 기법을 적용\n",
    "    elif isinstance(module, torch.nn.Linear):\n",
    "        prune.l1_unstructured(module, name='weight', amount=0.4)\n",
    "\n",
    "print(dict(new_model.named_buffers()).keys())  # 존재하는 모든 마스크들을 확인"
   ]
  },
  {
   "cell_type": "code",
   "execution_count": 27,
   "id": "14dfc9c3",
   "metadata": {},
   "outputs": [],
   "source": [
    "model = LeNet()\n",
    "\n",
    "parameters_to_prune = (\n",
    "    (model.conv1, 'weight'),\n",
    "    (model.conv2, 'weight'),\n",
    "    (model.fc1, 'weight'),\n",
    "    (model.fc2, 'weight'),\n",
    "    (model.fc3, 'weight'),\n",
    ")\n",
    "\n",
    "prune.global_unstructured(\n",
    "    parameters_to_prune,\n",
    "    pruning_method=prune.L1Unstructured,\n",
    "    amount=0.2,\n",
    ")"
   ]
  },
  {
   "cell_type": "code",
   "execution_count": 28,
   "id": "934cb605",
   "metadata": {},
   "outputs": [
    {
     "name": "stdout",
     "output_type": "stream",
     "text": [
      "Sparsity in conv1.weight: 1.85%\n",
      "Sparsity in conv2.weight: 8.80%\n",
      "Sparsity in fc1.weight: 22.19%\n",
      "Sparsity in fc2.weight: 12.08%\n",
      "Sparsity in fc3.weight: 10.45%\n",
      "Global sparsity: 20.00%\n"
     ]
    }
   ],
   "source": [
    "print(\n",
    "    \"Sparsity in conv1.weight: {:.2f}%\".format(\n",
    "        100. * float(torch.sum(model.conv1.weight == 0))\n",
    "        / float(model.conv1.weight.nelement())\n",
    "    )\n",
    ")\n",
    "print(\n",
    "    \"Sparsity in conv2.weight: {:.2f}%\".format(\n",
    "        100. * float(torch.sum(model.conv2.weight == 0))\n",
    "        / float(model.conv2.weight.nelement())\n",
    "    )\n",
    ")\n",
    "print(\n",
    "    \"Sparsity in fc1.weight: {:.2f}%\".format(\n",
    "        100. * float(torch.sum(model.fc1.weight == 0))\n",
    "        / float(model.fc1.weight.nelement())\n",
    "    )\n",
    ")\n",
    "print(\n",
    "    \"Sparsity in fc2.weight: {:.2f}%\".format(\n",
    "        100. * float(torch.sum(model.fc2.weight == 0))\n",
    "        / float(model.fc2.weight.nelement())\n",
    "    )\n",
    ")\n",
    "print(\n",
    "    \"Sparsity in fc3.weight: {:.2f}%\".format(\n",
    "        100. * float(torch.sum(model.fc3.weight == 0))\n",
    "        / float(model.fc3.weight.nelement())\n",
    "    )\n",
    ")\n",
    "print(\n",
    "    \"Global sparsity: {:.2f}%\".format(\n",
    "        100. * float(\n",
    "            torch.sum(model.conv1.weight == 0)\n",
    "            + torch.sum(model.conv2.weight == 0)\n",
    "            + torch.sum(model.fc1.weight == 0)\n",
    "            + torch.sum(model.fc2.weight == 0)\n",
    "            + torch.sum(model.fc3.weight == 0)\n",
    "        )\n",
    "        / float(\n",
    "            model.conv1.weight.nelement()\n",
    "            + model.conv2.weight.nelement()\n",
    "            + model.fc1.weight.nelement()\n",
    "            + model.fc2.weight.nelement()\n",
    "            + model.fc3.weight.nelement()\n",
    "        )\n",
    "    )\n",
    ")"
   ]
  }
 ],
 "metadata": {
  "kernelspec": {
   "display_name": "Python 3 (ipykernel)",
   "language": "python",
   "name": "python3"
  },
  "language_info": {
   "codemirror_mode": {
    "name": "ipython",
    "version": 3
   },
   "file_extension": ".py",
   "mimetype": "text/x-python",
   "name": "python",
   "nbconvert_exporter": "python",
   "pygments_lexer": "ipython3",
   "version": "3.10.6"
  }
 },
 "nbformat": 4,
 "nbformat_minor": 5
}
